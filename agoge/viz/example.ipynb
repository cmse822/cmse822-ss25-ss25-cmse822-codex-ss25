{
 "cells": [
  {
   "cell_type": "code",
   "execution_count": null,
   "metadata": {},
   "outputs": [],
   "source": [
    "from agoge_yt import *\n",
    " \n",
    "hdf5_filename = \"../agoge_final.h5\"  # Replace with your actual HDF5 file path\n",
    "visualize_agoge_data(hdf5_filename)\n"
   ]
  },
  {
   "cell_type": "code",
   "execution_count": 1,
   "metadata": {},
   "outputs": [
    {
     "ename": "AttributeError",
     "evalue": "module 'agoge_viz' has no attribute 'read_agoge_hdf5'",
     "output_type": "error",
     "traceback": [
      "\u001b[0;31m---------------------------------------------------------------------------\u001b[0m",
      "\u001b[0;31mAttributeError\u001b[0m                            Traceback (most recent call last)",
      "Cell \u001b[0;32mIn[1], line 5\u001b[0m\n\u001b[1;32m      1\u001b[0m \u001b[38;5;28;01mimport\u001b[39;00m\u001b[38;5;250m \u001b[39m\u001b[38;5;21;01magoge_viz\u001b[39;00m\u001b[38;5;250m \u001b[39m\u001b[38;5;28;01mas\u001b[39;00m\u001b[38;5;250m \u001b[39m\u001b[38;5;21;01mav\u001b[39;00m\n\u001b[1;32m      3\u001b[0m \u001b[38;5;66;03m# 1) read data\u001b[39;00m\n\u001b[0;32m----> 5\u001b[0m data \u001b[38;5;241m=\u001b[39m \u001b[43mav\u001b[49m\u001b[38;5;241;43m.\u001b[39;49m\u001b[43mread_agoge_hdf5\u001b[49m(\u001b[38;5;124m\"\u001b[39m\u001b[38;5;124m../agoge_init.h5\u001b[39m\u001b[38;5;124m\"\u001b[39m)\n\u001b[1;32m      7\u001b[0m \u001b[38;5;66;03m# 2) line plot\u001b[39;00m\n\u001b[1;32m      8\u001b[0m av\u001b[38;5;241m.\u001b[39mplot_line(data, field\u001b[38;5;241m=\u001b[39m\u001b[38;5;124m\"\u001b[39m\u001b[38;5;124mrho\u001b[39m\u001b[38;5;124m\"\u001b[39m, axis\u001b[38;5;241m=\u001b[39m\u001b[38;5;124m\"\u001b[39m\u001b[38;5;124mx\u001b[39m\u001b[38;5;124m\"\u001b[39m, index_j\u001b[38;5;241m=\u001b[39m\u001b[38;5;241m31\u001b[39m, index_k\u001b[38;5;241m=\u001b[39m\u001b[38;5;241m31\u001b[39m)\n",
      "\u001b[0;31mAttributeError\u001b[0m: module 'agoge_viz' has no attribute 'read_agoge_hdf5'"
     ]
    }
   ],
   "source": [
    "import agoge_viz as av\n",
    "\n",
    "# 1) read data\n",
    "\n",
    "data = av.read_agoge_hdf5(\"../agoge_init.h5\")\n",
    "\n",
    "# 2) line plot\n",
    "av.plot_line(data, field=\"rho\", axis=\"x\", index_j=31, index_k=31)\n",
    "\n",
    "# 3) slice plot\n",
    "# av.plot_slice(data, field=\"phi\", plane=\"z\", plane_index=10)\n"
   ]
  },
  {
   "cell_type": "code",
   "execution_count": null,
   "metadata": {},
   "outputs": [],
   "source": []
  }
 ],
 "metadata": {
  "kernelspec": {
   "display_name": "Python 3",
   "language": "python",
   "name": "python3"
  },
  "language_info": {
   "codemirror_mode": {
    "name": "ipython",
    "version": 3
   },
   "file_extension": ".py",
   "mimetype": "text/x-python",
   "name": "python",
   "nbconvert_exporter": "python",
   "pygments_lexer": "ipython3",
   "version": "3.13.1"
  }
 },
 "nbformat": 4,
 "nbformat_minor": 2
}
