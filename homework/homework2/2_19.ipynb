{
 "cells": [
  {
   "cell_type": "markdown",
   "metadata": {},
   "source": [
    "the bitonic sort also has a run time of about O((logn)^2) and the best case is O(nlogn) in the worst case it is (logp)^2\n",
    "\n",
    "if p was fixed and n started to increase the net runtime grows as much as nlog(n) which increases the parallel runtime to log(n)^2\n",
    "\n",
    "this decrease as n grows makes the speedup drop within the function of n\n"
   ]
  }
 ],
 "metadata": {
  "language_info": {
   "name": "python"
  }
 },
 "nbformat": 4,
 "nbformat_minor": 2
}
