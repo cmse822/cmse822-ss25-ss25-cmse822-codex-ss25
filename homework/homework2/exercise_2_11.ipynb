{
 "cells": [
  {
   "cell_type": "markdown",
   "metadata": {},
   "source": [
    "# Exercise 2.11"
   ]
  },
  {
   "cell_type": "markdown",
   "metadata": {},
   "source": [
    "## Question\n",
    "Let’s do a specific example. Assume that a code has a setup that takes 1 second and a parallelizable section that takes 1000 seconds on one processor. What are the speedup and efficiency if the code is executed with 100 processors? What are they for 500 processors? Express your answer to at most two significant digits."
   ]
  },
  {
   "cell_type": "markdown",
   "metadata": {},
   "source": [
    "## Answer"
   ]
  },
  {
   "cell_type": "markdown",
   "metadata": {},
   "source": [
    "First, we can derive equations for the Speedup and Efficiency, given Amidahl's law. <br>\n",
    "$S_p = \\frac{T_1}{T_p}, T_p = T_1(F_s + \\frac{F_p}{p})$ <br>\n",
    "$S_p = T_1[T_1(F_s + \\frac{F_p}{p})]^{-1}$ <br>\n",
    "$S_p = (F_s + \\frac{F_p}{p})^{-1}$\n",
    "\n",
    "$E = \\frac{S_p}{p}$ <br>\n",
    "\n",
    "From here, we can then calculate both, given the provided values; <br>\n",
    "$F_s = 1 / 1001, F_p = 1000/1001$ <br>\n",
    "\n",
    "$F_s(100) = (\\frac{1}{1001} + \\frac{1000}{1001 * 100})^{-1} = 91$ <br>\n",
    "$E(100) = 91 / 100 = .91$ <br>\n",
    "\n",
    "$F_s(500) = (\\frac{1}{1001} + \\frac{1000}{1001 * 500})^{-1} = 333.67$ <br>\n",
    "$E(500) = 333.67 / 500 = .6673$ <br>\n",
    "\n",
    "We found;\n",
    "$$S(100) = 91, E(100) = .91$$\n",
    "$$S(500) = 333.67, E(500) = .6673$$"
   ]
  },
  {
   "cell_type": "markdown",
   "metadata": {},
   "source": []
  }
 ],
 "metadata": {
  "language_info": {
   "name": "python"
  }
 },
 "nbformat": 4,
 "nbformat_minor": 2
}
