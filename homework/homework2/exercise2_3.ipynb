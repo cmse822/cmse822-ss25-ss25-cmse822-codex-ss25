{
 "cells": [
  {
   "cell_type": "markdown",
   "metadata": {},
   "source": [
    "# Exercise 2.3\n",
    "\n",
    "#### **Exercise 2.3.** Assume that an addition takes a certain unit time, and that moving a number\n",
    "#### from one processor to another takes that same unit time. Show that the communication\n",
    "#### time equals the computation time.\n",
    "#### Now assume that sending a number from processor 𝑝 to 𝑝 ± 𝑘 takes time 𝑘. Show that\n",
    "#### the execution time of the parallel algorithm now is of the same order as the sequential\n",
    "#### time.\n"
   ]
  },
  {
   "cell_type": "markdown",
   "metadata": {},
   "source": [
    "(i) For addition using parallel processors, the time it takes to compute is $ \\frac{n}{p} * O(f)$ (where $O(f)$ is dependent on the efficiency of the specified function). The number of operations performed that must be communicated is $n* O(f)$. Processors follow a structured reduction pattern, so the time it takes reduces with each new processor since processors compute partial results and communication can be parallelized, similar to computation. This means that the communication time will also be $ \\frac{n}{p} * O(f)$."
   ]
  },
  {
   "cell_type": "markdown",
   "metadata": {},
   "source": [
    "(ii) If the time to communicate from processor $p$ to $p \\pm k$ now takes time $k$, this changes the order of the time algorithm. In the worst case, every communication takes place between two processors that are the farthest possible distance away, so $k = p$ in every case and therefore the communication time becomes $O(p)$. This changes the time algorithm to $ \\frac{n}{p}*O(f) + O(p)$. If $p$ becomes large then $O(p)$ can dominate which changes the time to $n*O(f)$, the same as sequential time. "
   ]
  }
 ],
 "metadata": {
  "language_info": {
   "name": "python"
  }
 },
 "nbformat": 4,
 "nbformat_minor": 2
}
