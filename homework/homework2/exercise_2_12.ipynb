{
 "cells": [
  {
   "cell_type": "markdown",
   "metadata": {},
   "source": [
    "# Exercise 2.12"
   ]
  },
  {
   "cell_type": "markdown",
   "metadata": {},
   "source": [
    "## Question\n",
    "Investigate the implications of Amdahl’s law: if the number of processors 𝑃 increases, how does the parallel fraction of a code have to increase to maintain a fixed efficiency?"
   ]
  },
  {
   "cell_type": "markdown",
   "metadata": {},
   "source": [
    "## Answer"
   ]
  },
  {
   "cell_type": "markdown",
   "metadata": {},
   "source": [
    "First, we can derive equations for the Speedup and Efficiency, given Amidahl's law. <br>\n",
    "$S_p = \\frac{T_1}{T_p}, T_p = T_1(F_s + \\frac{F_p}{p})$ <br>\n",
    "$S_p = T_1[T_1(F_s + \\frac{F_p}{p})]^{-1}$ <br>\n",
    "$S_p = (F_s + \\frac{F_p}{p})^{-1}$\n",
    "\n",
    "$E = \\frac{S_p}{p} = (pF_s + F_p)^{-1} = (p(1-F_p) +F_p)^{-1}$ <br>\n",
    "\n",
    "Now, we will want to find an equation for $F_p$ that satisfies the following; <br>\n",
    "$\\frac{d}{dp}E = 0$ <br>\n",
    "\n",
    "In order for this to be true, we must find that; <br>\n",
    "$\\frac{d}{dp}(p(1-F_p) + F_p) = 0$ <br>\n",
    "$F_p'(1-p) - F_p + 1 = 0$ <br>\n",
    "\n",
    "Rearranging, we can find; <br>\n",
    "$F_p = F_p'(1-p) + 1$ <br>\n",
    "$F_p = \\frac{dF_p}{dp}(1-p)+1$ <br>\n",
    "$-\\frac{F_p - 1}{p-1} = \\frac{dF_p}{dp}$ <br>\n",
    "$-\\frac{dF_p}{F_p-1} = \\frac{dp}{p-1}$ <br>\n",
    "\n",
    "We can then integrate; <br>\n",
    "$-\\int\\frac{1}{F_p-1}dF_p = \\int\\frac{1}{p-1}dp$ <br>\n",
    "$-\\ln(F_p-1) + C = \\ln(p-1) + C$ <br>\n",
    "$\\ln(F_p-1) = C - \\ln(p-1)$ <br>\n",
    "$F_p-1 = \\frac{e^C}{p-1}$ <br>\n",
    "$F_p = \\frac{C}{p-1}+1$ <br>\n",
    "\n",
    "We find the final relationship;\n",
    "$$F_p = -\\frac{C}{p-1}+1, \\space F_s = \\frac{C}{p-1}$$\n",
    "Where C is some positive constant that controls the target efficiency. This relationship is only valid when $p \\ge C + 1$ and $p > 1$. <br>\n",
    "Under this relationship, the Efficiency of this system remains constant as the number of processors increases. The general behavior indicates that, as the number of processors increases, the parallel fraction needs to asymptotically approach 100% in order for the efficiency to remain constant. \n",
    "\n",
    "Along the same lines, the operating term $\\frac{C}{p-1}$ represents the influence of the Sequential Fraction, whose effect is magnified as the number of processors increases, and must asymptotically approach 0% for the efficiency to remain constant."
   ]
  }
 ],
 "metadata": {
  "language_info": {
   "name": "python"
  }
 },
 "nbformat": 4,
 "nbformat_minor": 2
}
