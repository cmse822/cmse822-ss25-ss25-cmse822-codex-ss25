{
 "cells": [
  {
   "cell_type": "markdown",
   "metadata": {},
   "source": [
    "## Exercise 2.6\n",
    "\n",
    "Prove that $𝐸 = 1$ implies that all processors are active all the time. (Hint: suppose all processors finish their work in time $𝑇$, except for one processor in $𝑇^′ < 𝑇$. What is $𝑇_𝑝$ in this case? Explore the above relations.)"
   ]
  },
  {
   "cell_type": "markdown",
   "metadata": {},
   "source": [
    "If we suppose that all but one processor finishes their work in time $T$ and the other finishing in time $T^{'}$ where $T^{'} \\leq T$, $T_p$ is the following:\n",
    "\n",
    "$$ T_p = ((p-1)*T + T^{'}) $$\n",
    "\n",
    "Which gives,\n",
    "$$ S_p = \\frac{T_1}{((p-1)*T + T^{'})} $$\n",
    "and\n",
    "$$ E_p = \\frac{T_1}{((p-1)*T + T^{'})p} $$"
   ]
  },
  {
   "cell_type": "markdown",
   "metadata": {},
   "source": [
    "In this case, for $E$ to equal $1$, the following conditions must be met:\n",
    "* $T^{'} = T$\n",
    "* $T_1 = T_pp \\rightarrow ((p-1)*T + T)p \\rightarrow Tp^2$ (the ideal case)\n",
    "\n",
    "Therefore,\n",
    "$$ E_p = \\frac{Tp^2}{((p-1)*T + T)p} $$\n",
    "$$ E_p = \\frac{Tp^2}{(p*T)p} $$\n",
    "$$ E_p = \\frac{Tp^2}{(p^2*T)} $$\n",
    "$$ E_p = \\frac{Tp^2}{Tp^2} $$\n",
    "$$ E_p = 1 $$"
   ]
  },
  {
   "cell_type": "markdown",
   "metadata": {},
   "source": [
    "From this, we see that for $E$ to be $1$, all of the processors must have the same execution time, which is the ideal case as $T_1$ represents ‘the best time to solve the problem on a single processor’. This implies that the processors must all be running and have the same execution time to reach maximum efficiency. "
   ]
  }
 ],
 "metadata": {
  "language_info": {
   "name": "python"
  }
 },
 "nbformat": 4,
 "nbformat_minor": 2
}
