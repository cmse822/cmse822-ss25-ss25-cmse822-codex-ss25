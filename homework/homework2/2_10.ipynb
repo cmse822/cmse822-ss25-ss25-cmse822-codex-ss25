{
 "cells": [
  {
   "cell_type": "markdown",
   "metadata": {},
   "source": [
    "Normally multiplyong matricies is a O(n^2) computation becasue each n represents the size of a matrix which needs ot be iterated through. using parallel addition to sum n numbers we now know the speed is O(log2(n)) woth O(n/2) processors. we need to use each o the n^2 element in the matrix which we can do becaue because the summations are being asssumed to the total numer of processors required. because instead of the sumation taking place between n and n one of them is O(log2N) because as sceen in the cell under this"
   ]
  },
  {
   "cell_type": "markdown",
   "metadata": {},
   "source": [
    "we gather this information form the efficiency equation which is time parallel time * number of processor, which in this case is:\n",
    "\n",
    "    E = n^3 / (n^(3/2) * log2N ) \n",
    "\n",
    "so the multiplication used in log2N and is usd to being the gather the exact efficiency equation. \n",
    "\n",
    "this confirms that while speeding the parallel scheme becomes less efficient for the very large skall of N. and confirms the resulting efficiency of the calculation. \n"
   ]
  },
  {
   "cell_type": "markdown",
   "metadata": {},
   "source": []
  }
 ],
 "metadata": {
  "language_info": {
   "name": "python"
  }
 },
 "nbformat": 4,
 "nbformat_minor": 2
}
