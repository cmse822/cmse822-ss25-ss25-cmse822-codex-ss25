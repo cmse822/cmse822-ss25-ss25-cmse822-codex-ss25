{
 "cells": [
  {
   "cell_type": "markdown",
   "metadata": {},
   "source": [
    "# Exercise 2.10"
   ]
  },
  {
   "cell_type": "markdown",
   "metadata": {},
   "source": [
    "## Question\n",
    "Show that, with the scheme for parallel addition just outlined, you can multiply two matrices in $\\log_2N$ time with $\\frac{𝑁^3}{2}$ processors. What is the resulting efficiency?"
   ]
  },
  {
   "cell_type": "markdown",
   "metadata": {},
   "source": [
    "## Answer"
   ]
  },
  {
   "cell_type": "markdown",
   "metadata": {},
   "source": [
    "In a matrix-matrix multiplication of matrices (N x N), each element is can be calculated by the formula; <br>\n",
    "$(AB)_{ij} = \\sum_{k=1}^{m}A_{ik}B_{kj}$<br>\n",
    "\n",
    "In this, we can see that each element of the resulting matrix $(AB)$ is independent of any other element in $(AB)$, and as such could be handled as one of $N^2$ parallel operations.\n",
    "\n",
    "Furthermore, each individual operation is essentially a sum of elements, and could therefore be handled by the same parallel summation algorithm as described in the textbook:\n",
    "\n",
    "1. Define $s^{(0)}_k = A_{ik}B_{kj}$.\n",
    "2. Iterate with $l = 1, 2, ... \\log_2(N)$\n",
    "3. Compute $\\frac{N}{2^l}$ partial sums: $s^{(l)}_{k} = s^{(l-1)}_{2k} + s^{(l-2)}_{2k+1}$\n",
    "\n",
    "This operation has a known time of $\\log_2 N$ when performed using $\\frac{N}{2}$ processors. <br> \n",
    "If we provide each of our $N^2$ matrix elements with $\\frac{N}{2}$ processors to perform this sum, we get the expected value of $\\frac{N^3}{2}$ processors. <br>\n",
    "If we then assume that there are no startup or discretization costs, then the overall multiplication only takes as long as each operation, so the overall multiplication inherits the $\\log_2 N$ time.\n",
    "\n",
    "To determine the efficiency of this, we will start by finding the speedup. <br>\n",
    "For the serial version of this function, we would need to perform the sum for every element in the result matrix, resulting in a time of $N^3$. <br>\n",
    "We determined above that the time of the parallel version is $\\log_2N$.\n",
    "\n",
    "$S_p = \\frac{T_s}{T_p} = \\frac{N^3}{\\log_2{N}}$\n",
    "\n",
    "From this, we can find the efficiency, where $p$ is the number of processors; <br>\n",
    "$E = \\frac{S_p}{p} = \\frac{N^3}{\\log_2N}(\\frac{2}{N^3}) = \\frac{2}{\\log_2N}$ <br>\n",
    "\n",
    "$$ E = \\frac{2}{\\log_2N}$$"
   ]
  }
 ],
 "metadata": {
  "language_info": {
   "name": "python"
  }
 },
 "nbformat": 4,
 "nbformat_minor": 2
}
