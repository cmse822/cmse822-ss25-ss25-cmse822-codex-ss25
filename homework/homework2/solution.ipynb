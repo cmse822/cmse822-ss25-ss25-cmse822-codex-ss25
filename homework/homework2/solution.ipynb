{
 "cells": [
  {
   "cell_type": "markdown",
   "metadata": {},
   "source": [
    "# Solutions\n",
    "\n",
    "**Team**: Thread Titans\n",
    "\n",
    "**Team Members**: Alex, Bashar, Fizza, Maya, Ramin"
   ]
  },
  {
   "cell_type": "markdown",
   "metadata": {},
   "source": [
    "## Exercise 2.3\n",
    "\n",
    "Assume that an addition takes a certain unit time, and that moving a number from one processor to another takes that same unit time. Show that the communication time equals the computation time. \n",
    "\n",
    "Now assume that sending a number from processor $p$ to $p \\pm k$ takes time $k$. Show that the execution time of the parallel algorithm now is of the same order as the sequential time.\n"
   ]
  },
  {
   "cell_type": "markdown",
   "metadata": {},
   "source": [
    "Answer:"
   ]
  },
  {
   "cell_type": "markdown",
   "metadata": {},
   "source": [
    "## Exercise 2.5\n",
    "\n"
   ]
  },
  {
   "cell_type": "markdown",
   "metadata": {},
   "source": [
    "Answer"
   ]
  },
  {
   "cell_type": "markdown",
   "metadata": {},
   "source": [
    "## Exercise 2.6\n",
    "\n"
   ]
  },
  {
   "cell_type": "markdown",
   "metadata": {},
   "source": [
    "Answer"
   ]
  },
  {
   "cell_type": "markdown",
   "metadata": {},
   "source": [
    "## Exercise 2.10\n",
    "\n"
   ]
  },
  {
   "cell_type": "markdown",
   "metadata": {},
   "source": [
    "Answer"
   ]
  },
  {
   "cell_type": "markdown",
   "metadata": {},
   "source": [
    "## Exercise 2.11\n",
    "\n"
   ]
  },
  {
   "cell_type": "markdown",
   "metadata": {},
   "source": [
    "Answer"
   ]
  },
  {
   "cell_type": "markdown",
   "metadata": {},
   "source": [
    "## Exercise 2.12\n",
    "\n"
   ]
  },
  {
   "cell_type": "markdown",
   "metadata": {},
   "source": [
    "Answer"
   ]
  },
  {
   "cell_type": "markdown",
   "metadata": {},
   "source": [
    "## Exercise 2.17\n",
    "\n"
   ]
  },
  {
   "cell_type": "markdown",
   "metadata": {},
   "source": [
    "Given that in the strong scaling run-time is given as \n",
    "$$ t = \\frac{c}{p} \\to \\log{t} = \\log{c} - \\log{p} $$\n",
    "Now if we consider $\\log{p}$ and $\\log{t}$ as the variables, slope of this line is $-1$.\n",
    "Next, if run-time has non-parallelizable part, that is :\n",
    "$$ t = c_s + \\frac{c_p}{p} \\to  \\log{t} = \\log{c_s}+\\log{\\big(1+\\frac{c_p}{p\\times c_s}\\big)} \\to  \\log{t} = \\log{c_s}+\\log{\\big(1+\\frac{c^*}{p}\\big)}$$\n",
    "where $c^* = \\frac{c_p}{c_s}$ and $c_s$ and $c_p$ denote the non-parallelizable and parallelizable portion respectively. We note $\\log{1+x}$ for $x>4$ is almost equal to $\\log{x}$. Therefore, we can say, if $c^*$ is large enough we almost end up with\n",
    "$$ \\log{t} \\approx \\log{c_s} + \\log{c^*} - \\log{p} \\approx  \\log{c^*} - \\log{p}$$\n",
    "where we assumed $c^* >> c_s$. So we can conclude if the serial part of the problem compared to parallelizable part is computationally small, then we can almost expect the same scaling. This can be achieved by optimizing the code so the computational cost of the serial part gets lower or by increasing the problem size, increase the computational cost of parallelizable part. We may also try different parallel scheme where the serial part becomes smaller."
   ]
  },
  {
   "cell_type": "markdown",
   "metadata": {},
   "source": [
    "## Exercise 2.19\n",
    "\n"
   ]
  },
  {
   "cell_type": "markdown",
   "metadata": {},
   "source": [
    "For weak scaling if we assume $n=p$ we have :\n",
    "$$ \\textrm{speed-up} = \\frac{p\\log{p}}{\\log{p}^2} = \\frac{p}{\\log{p}}$$\n",
    "\n",
    "For strong scaling the size of problem is fixed and number of processor is $p$. For bitonic sort we have $\\frac{n\\log{n}^2}{p}$\n",
    "$$ \\textrm{speed-up} = \\frac{n\\log{n}}{n\\log{n}^2/p} = \\frac{p}{\\log{n}}$$\n",
    "Which is a decreasing function of $n$.\n"
   ]
  },
  {
   "cell_type": "markdown",
   "metadata": {},
   "source": [
    "## Exercise 4.1\n",
    "\n"
   ]
  },
  {
   "cell_type": "markdown",
   "metadata": {},
   "source": [
    "Answer"
   ]
  },
  {
   "cell_type": "markdown",
   "metadata": {},
   "source": [
    "## Exercise 4.2\n",
    "\n"
   ]
  },
  {
   "cell_type": "markdown",
   "metadata": {},
   "source": [
    "Answer"
   ]
  },
  {
   "cell_type": "markdown",
   "metadata": {},
   "source": [
    "## Exercise 4.13\n",
    "\n"
   ]
  },
  {
   "cell_type": "markdown",
   "metadata": {},
   "source": [
    "Answer"
   ]
  },
  {
   "cell_type": "markdown",
   "metadata": {},
   "source": [
    "## Exercise 4.14\n",
    "\n"
   ]
  },
  {
   "cell_type": "markdown",
   "metadata": {},
   "source": [
    "Answer"
   ]
  }
 ],
 "metadata": {
  "language_info": {
   "name": "python"
  }
 },
 "nbformat": 4,
 "nbformat_minor": 2
}
