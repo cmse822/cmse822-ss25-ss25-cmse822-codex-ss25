{
 "cells": [
  {
   "cell_type": "markdown",
   "metadata": {},
   "source": [
    "# Homework 1, Problem 6.4\n",
    "\n",
    "## Question\n",
    "\n",
    "if your loop describes the (𝑖, 𝑗) indices of a two-dimensional\n",
    "array, it is often best to let the 𝑖-index be in the inner loop for Fortran, and the 𝑗-index inner for C. Can you come up with at least two reasons why this is possibly better for performance?"
   ]
  },
  {
   "cell_type": "markdown",
   "metadata": {},
   "source": [
    "## Answer\n",
    "\n",
    "The difference between C and Fortran that this represents is their difference in memory ordering. In Fortran, 2D arrays are column-ordered, where each column in a 2D array is laid out sequentially in memory. In C, these arrays are row-ordered, with each row being laid out sequentially in memory.\n",
    "\n",
    "As a result of this distinction, we want to match the ordering with our innermost index, so that we can read adjacent memory \"slots\" in a stride-1 setup. In doing this, we read fewer overall cachelines for the intended operation, as we only need to load any given cacheline once, rather than jump around to non-adjacent memory. Another benefit of this approach is that, by reading adjacent memory in this way, we expose pipelining & SIMD operations within the CPU."
   ]
  },
  {
   "cell_type": "markdown",
   "metadata": {},
   "source": []
  }
 ],
 "metadata": {
  "language_info": {
   "name": "python"
  }
 },
 "nbformat": 4,
 "nbformat_minor": 2
}
