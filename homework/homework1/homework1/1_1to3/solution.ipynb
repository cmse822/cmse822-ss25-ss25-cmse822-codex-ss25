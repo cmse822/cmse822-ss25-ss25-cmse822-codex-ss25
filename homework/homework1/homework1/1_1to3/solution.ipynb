{
 "cells": [
  {
   "cell_type": "markdown",
   "metadata": {},
   "source": [
    "## Exercise 1.1"
   ]
  },
  {
   "cell_type": "markdown",
   "metadata": {},
   "source": [
    "Let us compare the speed of a classical FPU, and a pipelined one. Show that the\n",
    "result rate is now dependent on $n$: give a formula for $r(n)$, and for $r_\\infty = \\lim_{n\\to\\infty} r(n)$.\n",
    "What is the asymptotic improvement in $r$ over the non-pipelined case?\n",
    "Next you can wonder how long it takes to get close to the asymptotic behavior. Show\n",
    "that for $n = n_{1/2}$ you get $r(n) = r_\\infty / 2$. This is often used as the definition of $n_{1/2}$."
   ]
  },
  {
   "cell_type": "markdown",
   "metadata": {},
   "source": [
    "## 1.1 Answer"
   ]
  },
  {
   "cell_type": "markdown",
   "metadata": {},
   "source": [
    "Let $t_s(n)$ and $t_p(n)$ be the time to produce $n$ results for a standard and pipelined FPU, respectively. Similarly define $r_s(n)$ and $r_p(n)$ for the result rates.\\\n",
    "From the textbook, we have that\n",
    "\n",
    "$$t_s(n) = nl\\tau \\text{  and  } r_s(n) = (l\\tau)^{-1}$$\n",
    "\n",
    "where $l$ is the number of stages and $\\tau$ is the clock cycle time. It also provides\n",
    "\n",
    "$$t_p(n) = (s + l + n - 1)\\tau = (n + n_{1/2})\\tau$$\n",
    "\n",
    "where $s$ is a setup cost and $n_{1/2}$ is the constant $s + l - 1$."
   ]
  },
  {
   "cell_type": "markdown",
   "metadata": {},
   "source": [
    "By definition, the result rate for the pipelined processor is\n",
    "\n",
    "$$r_p(n) = \\left(\\frac{t_p(n)}{n}\\right)^{-1} = \\left(\\frac{(n + n_{1/2})\\tau}{n}\\right)^{-1} = \\left(\\tau + \\frac{n_{1/2}\\tau}{n}\\right)^{-1}$$\n",
    "\n",
    "Clearly, the result rate in this case depends on $n$. Taking the limit as $n$ goes to infinity we obtain\n",
    "\n",
    "$$r_\\infty = \\lim_{n\\to\\infty} \\left(\\tau + \\frac{n_{1/2}\\tau}{n}\\right)^{-1} = \\tau^{-1}$$\n",
    "\n",
    "since the second term vanishes."
   ]
  },
  {
   "cell_type": "markdown",
   "metadata": {},
   "source": [
    "Now we can compare the asymptotic bounds of $r$ of the pipelined processor to the standard one:\n",
    "\n",
    "$$\\lim_{n\\to\\infty} \\frac{r_p(n)}{r_s(n)} = \\frac{r_\\infty}{(l\\tau)^{-1}} = \\tau^{-1} \\cdot l\\tau = l$$\n",
    "\n",
    "Thus, the pipelined processor is asymptotically $l$ times faster than the traditional one."
   ]
  },
  {
   "cell_type": "markdown",
   "metadata": {},
   "source": [
    "Finally, for $n = n_{1/2}$,\n",
    "\n",
    "$$r_p(n_{1/2}) = \\left(\\tau + \\frac{n_{1/2}\\tau}{n_{1/2}}\\right)^{-1} = (\\tau + \\tau)^{-1} = (2\\tau)^{-1} = \\frac{1}{2}\\cdot\\tau^{-1} = r_\\infty / 2$$"
   ]
  },
  {
   "cell_type": "markdown",
   "metadata": {},
   "source": [
    "## Exercise 1.2"
   ]
  },
  {
   "cell_type": "markdown",
   "metadata": {},
   "source": [
    "Analyze the speedup and $n_{1/2}$ of linked triads."
   ]
  },
  {
   "cell_type": "markdown",
   "metadata": {},
   "source": [
    "## 1.2 Answer"
   ]
  },
  {
   "cell_type": "markdown",
   "metadata": {},
   "source": [
    "Linked triads are operations of the type $\\forall i: a_i \\leftarrow b_i + c\\cdot d_i$. To obtain one result, or one $a_i$, on a traditional FPU the $l$ stages would need to be performed twice, once for the multiplication operation and another time for the addition. However, if we have separate addition and multiplication units and link the output of the multiplication to the input of the addition, the operations can be performed back to back without having to write the intermediate results to memory."
   ]
  },
  {
   "cell_type": "markdown",
   "metadata": {},
   "source": [
    "Thus, to get $n$ results on a traditional FPU for this problem the time required is\n",
    "$$t_s(n) = 2ln\\tau$$\n",
    "since  each result requires making a multiplication and an addition calculation.\n",
    "The result rate is then $r_s(n) = (2l\\tau)^{-1}$.\n",
    "\n",
    "\n",
    "For the pipelined one, the time required is\n",
    "$$t_p(n) = (s + 2l + (n-1))\\tau = (s + 2l + n - 1)\\tau = (n + n_{1/2})\\tau$$\n",
    "for $n_{1/2} = s + 2l - 1$. Since the addition pipeline is fed by the multiplication pipeline, the $l$ stages of each are run through one full time but then every subsequent iteration one result is produced.\n",
    "\n",
    "Then, the result rate is again\n",
    "$$r_p(n) = \\left(\\tau + \\frac{n_{1/2}\\tau}{n}\\right)^{-1} \\implies \\lim_{n\\to\\infty} r_p(n) = \\tau^{-1}$$\n",
    "\n",
    "The speedup in this case is thus\n",
    "$$\\lim_{n\\to\\infty} \\frac{r_p(n)}{r_s(n)} = \\frac{\\tau^{-1}}{(2l\\tau)^{-1}} = 2l$$\n",
    "\n",
    "and $r_p(n_{1/2}) = (2\\tau)^{-1}$ as before."
   ]
  },
  {
   "cell_type": "markdown",
   "metadata": {},
   "source": [
    "# Exercise 1.3"
   ]
  },
  {
   "cell_type": "markdown",
   "metadata": {},
   "source": [
    " Analyze the speedup and $n_{1/2}$ of a processor with multiple pipelines that operate in parallel.\\\n",
    " That is, suppose that there are $p$ independent pipelines, executing the same instruction, that can each handle a stream of operands."
   ]
  },
  {
   "cell_type": "markdown",
   "metadata": {},
   "source": [
    "## 1.3 Answer"
   ]
  },
  {
   "cell_type": "markdown",
   "metadata": {},
   "source": [
    "In this case, after the first $(s + l)$ clock cycles the first $p$ results are produced.\n",
    "Then, every clock cycle after that $p$ results are produced. Therefore, the time required with this processor is\n",
    "$$t_p(n) = (s + l + \\lceil \\frac{n-p}{p} \\rceil)\\tau = (s + l + \\lceil \\frac{n}{p} \\rceil - 1)\\tau = (\\lceil \\frac{n}{p} \\rceil + n_{1/2})\\tau$$\n",
    "\n",
    "So, the result rate is\n",
    "$$\\left(\\frac{t_p(n)}{n}\\right)^{-1} = \n",
    "\\left(\\frac{\\lceil\\frac{n}{p}\\rceil\\tau + n_{1/2}\\tau}{n}\\right)^{-1} = \n",
    "\\left(\\frac{\\tau}{p} + \\frac{n_{1/2}\\tau}{n}\\right)^{-1}$$\n",
    "\n",
    "dropping the ceiling function for simplicity."
   ]
  },
  {
   "cell_type": "markdown",
   "metadata": {},
   "source": [
    "Then, the asymptotic bound on the result rate is\n",
    "$$\\lim_{n\\to\\infty} r_p(n) = \\left(\\frac{\\tau}{p} + 0\\right) = \\frac{p}{\\tau}$$\n",
    "\n",
    "So, speedup is\n",
    "$$\\lim_{n\\to\\infty} \\frac{r_p(n)}{r_s(n)} = \\frac{\\frac{p}{\\tau}}{(l\\tau)^{-1}} = pl$$\n",
    "We can see that indeed asymptotically this processor's speedup will scale with the number of pipelines used."
   ]
  },
  {
   "cell_type": "markdown",
   "metadata": {},
   "source": [
    "Finally,\n",
    "$$r_p(n_{1/2}) = \\left(\\frac{\\tau}{p} + \\frac{n_{1/2}\\tau}{n_{1/2}}\\right)^{-1} = \\left(\\frac{\\tau}{p} + \\tau\\right)^{-1}$$"
   ]
  }
 ],
 "metadata": {
  "language_info": {
   "name": "python"
  }
 },
 "nbformat": 4,
 "nbformat_minor": 2
}
