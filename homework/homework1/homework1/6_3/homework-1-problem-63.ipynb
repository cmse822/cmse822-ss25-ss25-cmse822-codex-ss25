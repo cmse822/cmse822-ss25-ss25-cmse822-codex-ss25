{
 "cells": [
  {
   "cell_type": "markdown",
   "metadata": {},
   "source": [
    "# Homework 1, Problem 6.3\n",
    "\n",
    "## Question\n",
    "\n",
    "Give an example of a doubly-nested loop where the loops can be exchanged; give\n",
    "an example where this can not be done. If at all possible, use practical examples from\n",
    "this book."
   ]
  },
  {
   "cell_type": "markdown",
   "metadata": {},
   "source": [
    "## Answer"
   ]
  },
  {
   "cell_type": "markdown",
   "metadata": {},
   "source": [
    "### Exchangeable\n",
    "\n",
    "This first example comes from section 6.4.4, and shows a set of loops that can be exchanged.\n",
    "\n",
    "Since there is no impact from the outer loop on the inner loop or vice-versa, the same output comes from swapping the ordering of the loop. \n",
    "However, due to the differing use of the Translation Look-aside Buffer (TLB), these two approaches have very different performance characteristics. In the first example, a TLB cache-miss only occurs twice (since each page is 512 bytes) per column, and the subsequent elements can be read from the TLB more quickly. \n",
    "In contrast, the second approach will incur a TLB cache-miss for each row element, and depending on the size of the array, end up incurring a cache-miss for every element access."
   ]
  },
  {
   "cell_type": "code",
   "execution_count": null,
   "metadata": {
    "vscode": {
     "languageId": "plaintext"
    }
   },
   "outputs": [],
   "source": [
    "#define INDEX(i,j,m,n) i+j*m\n",
    "array = (double*) malloc(m*n*sizeof(double));\n",
    "\n",
    "/* traversal #1 */\n",
    "    for (j=0; j<n; j++)\n",
    "        for (i=0; i<m; i++)\n",
    "        array[INDEX(i,j,m,n)] = array[INDEX(i,j,m,n)]+1;\n",
    "\n",
    "/* traversal #2 */\n",
    "for (i=0; i<m; i++)\n",
    "    for (j=0; j<n; j++)\n",
    "        array[INDEX(i,j,m,n)] = array[INDEX(i,j,m,n)]+1;"
   ]
  },
  {
   "cell_type": "markdown",
   "metadata": {},
   "source": [
    "### Not Exchangeable"
   ]
  },
  {
   "cell_type": "markdown",
   "metadata": {},
   "source": [
    "This second example is purpose built, and shows a set of loops that can not be exchanged.\n",
    "\n",
    "In this case, the pseudo-code is creating a triangular matrix of 1s. Since the inner loop is instantiated using the current index value of the outer loop, we are unable to freely swap the inner and outer loop. The swap can still be made if one includes additional logic to express the same result, which could quickly become impractical or obtuse in a more complicated example."
   ]
  },
  {
   "cell_type": "code",
   "execution_count": null,
   "metadata": {
    "vscode": {
     "languageId": "plaintext"
    }
   },
   "outputs": [],
   "source": [
    "for (i=0; i<10; i++)\n",
    "    for(j=i; j<10; j++)\n",
    "        array[i,j] = 1"
   ]
  }
 ],
 "metadata": {
  "language_info": {
   "name": "python"
  }
 },
 "nbformat": 4,
 "nbformat_minor": 2
}
