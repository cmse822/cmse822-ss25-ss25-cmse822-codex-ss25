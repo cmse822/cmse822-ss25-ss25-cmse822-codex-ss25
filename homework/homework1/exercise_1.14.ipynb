{
 "cells": [
  {
   "cell_type": "markdown",
   "metadata": {},
   "source": [
    "## Exercise 1.14\n",
    "\n",
    "#### Brynn Roy\n",
    "1/30/25\n",
    "\n",
    "**Exercise 1.14**. The matrix-matrix product, considered as operation, clearly has data reuse by the above definition. Argue that this reuse is not trivially attained by a simple implementation. What determines whether the naive implementation has reuse of data that is in cache?\n",
    "\n",
    "The given algorithm:\n",
    "$\\forall c_{ij} = \\sum_k a_{ik}b_{kj}$\n",
    "\n",
    "In order to reuse data and overcome the challenge of bandwidth, data must be kept in fast cache memory. Keeping the necessary data in cache is not trivial in the above implementation. For example, the order of the loop can be done in two different ways:\n",
    "$$i,j,k$$\n",
    "Which would look like:\n"
   ]
  },
  {
   "cell_type": "code",
   "execution_count": null,
   "metadata": {
    "vscode": {
     "languageId": "plaintext"
    }
   },
   "outputs": [],
   "source": [
    "for row [i] in A\n",
    "    for col [j] in B\n",
    "        for k in length(p)\n",
    "            c[i,j] = A[i,k]*B[k,j]"
   ]
  },
  {
   "cell_type": "markdown",
   "metadata": {},
   "source": [
    "or\n",
    "$$j,i,k$$"
   ]
  },
  {
   "cell_type": "code",
   "execution_count": null,
   "metadata": {
    "vscode": {
     "languageId": "plaintext"
    }
   },
   "outputs": [],
   "source": [
    "for col [j] in B\n",
    "    for row [i] in A\n",
    "        for k in length(p)\n",
    "            c[i,j] = A[i,k]*B[k,j]"
   ]
  },
  {
   "cell_type": "markdown",
   "metadata": {},
   "source": [
    "The option between this ordering is dependant on a few factors. For example, say we are given the following:\n",
    "$$ A = \\begin{bmatrix} a_{1,1} & ... & a_{1,p} \\\\  & ... & \\\\  & ... & \\\\  & ... & \\\\  & ... & \\\\ a_{n,1} & ... & a_{n,p} \\\\ \\end{bmatrix}$$\n",
    "and\n",
    "$$ B = \\begin{bmatrix} b_{1,1} & ... & b_{1,p} \\\\  & ... & \\\\ b_{p,1} & ... & b_{p,p} \\\\ \\end{bmatrix}$$\n",
    "Where $A$ is a matrix with more rows ($n$) than columns ($p$) and $B$ is a smaller square matrix with $p$ rows and columns. Let's also say $n$ is much larger than $p$.\n",
    "\n",
    "**Given the algorithm, if we were to loop in the order of $i,j,k$**: We would be repeatedly accessing $A$'s $i$ th row in the inner loops, and the row would only change after every value in the row had been fully used and would not need to be accessed again. Therefore, $A$'s $i$ th row would likely remain in cache. Since $A$'s rows are shorter than its columns, it makes most sense to repeatedly grab those values and store them in cache. \n",
    "\n",
    "By contrast:\n",
    "\n",
    "**Given the algorithm, if we were to loop in the order of $j,i,k$**: We would be repeatedly accessing a different row of $A$ s for each inner loop. The data for each row would be used and then immediately wiped from cache even though it will be reused with the following outer loops. This is particularly troubling because $A$ has significantly more rows than columns, meaning reusable data would be removed/added to cache more times than the previous loop ordering.\n",
    "\n",
    "This scenario just shows one example where the number of columns of $A$ is greater than the rows. Depending on the number of columns of $A$ and rows of $B$ in comparison to the shared dimension, there are more efficient orderings for looping. Each option must be analyzed - keeping in mind the best practices of keeping recently accessed and repeatedly used data in cache, something that is not trivial. "
   ]
  }
 ],
 "metadata": {
  "language_info": {
   "name": "python"
  }
 },
 "nbformat": 4,
 "nbformat_minor": 2
}
