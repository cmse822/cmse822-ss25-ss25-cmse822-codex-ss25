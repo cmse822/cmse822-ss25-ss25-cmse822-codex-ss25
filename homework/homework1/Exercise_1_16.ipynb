{
 "cells": [
  {
   "cell_type": "markdown",
   "metadata": {},
   "source": [
    "compared to the standard algorithm this code has much worse spatial locality. by doubling the numbers every time the cache is far too spread out and causes delays in the retrieval of memory. The standard method also had a better temporal locality. the simplicity of the code works in its favor and maintains both a more evenly spaced spatial locality and a more steady temporal locality."
   ]
  }
 ],
 "metadata": {
  "language_info": {
   "name": "python"
  }
 },
 "nbformat": 4,
 "nbformat_minor": 2
}
