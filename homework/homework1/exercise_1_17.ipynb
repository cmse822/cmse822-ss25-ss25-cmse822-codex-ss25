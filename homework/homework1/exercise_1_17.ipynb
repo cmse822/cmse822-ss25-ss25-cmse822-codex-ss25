{
 "cells": [
  {
   "cell_type": "markdown",
   "metadata": {},
   "source": [
    "# Exercise 1.17\n",
    "\n",
    "### 1. Reuse\n",
    "\n",
    "Reuse refers to how the data is accessed while residing in the cache. This code benefits from temporal reuse, which is accessing the same data repeatedly. The array `c[k]` is the only array to benefit from reuse because it is used repeatedly in the i loop. `b[i]` does not exhibit reuse because the cache size is not large enough to hold it. `a[k, i]` does not have reuse either because it is written once per iteration and never accessed again. \n",
    "\n",
    "### 2. Cache size\n",
    "\n",
    "The cache size determines how much data is available for fast access. Since nvectors is smaller than the cache size, `c[k]` can fit fully in the cache. With the loop set up of the current code, `b[i]` is the critical array to keep in the cache. Because length is larger than the cache size, `b[i]` will be evicted before it is used in the next loop, which will result in cache thrashing.\n",
    "\n",
    "### 3. Associativity\n",
    "\n",
    "Associativity determines how flexible the cache is at placing data. Issues arise when different values are mapped to the same cache spot, resulting in conflict misses. This code may result in conflict misses if the associativity of the cache is low. This can occur if `b[i]` and `a[k, i]` are frequently mapped to the same cache locations.\n",
    "\n",
    "The code where the loops are exchanged would perform better than the original code. This is because of the way that the variables can be stored in the cache. `c` can be fully stored in the cache which allows for it to be reused. Each `b[i]` is loaded once and then accessed nvector times, which is reuse. `a[k, i]` can also be accessed in row major order, which improves spatial locality. "
   ]
  }
 ],
 "metadata": {
  "language_info": {
   "name": "python"
  }
 },
 "nbformat": 4,
 "nbformat_minor": 2
}
