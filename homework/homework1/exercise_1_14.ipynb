{
 "cells": [
  {
   "cell_type": "markdown",
   "metadata": {},
   "source": [
    "# Exercise 1.14\n",
    "\n",
    "With the matrix-matrix product operation, data reuse cannot be attained by simple implementation. The main factors that determines data reuse are the sizes of the matrices and the size of the cache. In the naive implementation, matrix `a` is accessed row wise, while matrix `b` is accessed column wise. For this implementation to have reuse, both matrices would need to be fully loaded into the cache. On top of this, matrix `c` would need to be stored in the cache as well. If a cache is large enough to store all 3 matrices, then data reuse is attainable, but this is only possible with small matrices. In reality, elements of `a` and `b` would need to be loaded multiple times into the cache, preventing reuse.\n",
    "\n",
    "A solution to this problem is a block based implementation. This implementation works by dividing the original matrices into smaller submatrices that can be fully stored in the cache. This implementation is more complex than the trivial version, but allows for data reuse.\n",
    "\n",
    "A secondary solution is to store the summation in a temporary variable before being written to `c[i, j]`. This allows the temporary variable to be stored in the registers and reduces the number of accesses needed for `c`."
   ]
  }
 ],
 "metadata": {
  "language_info": {
   "name": "python"
  }
 },
 "nbformat": 4,
 "nbformat_minor": 2
}
