{
 "cells": [
  {
   "metadata": {},
   "cell_type": "markdown",
   "source": [
    "# Exercises 1.1, 1.2, and 1.3\n",
    "\n",
    "### Exercise 1.1 Compare the speed of a classical FPU and a pipelined one\n",
    "\n",
    "For a pipelined FPU the time equation is $t(n) = [s + l + n - 1]t$\n",
    "\n",
    "The reciprocal of $t(n)/n$, or the rate, is $r(n) = \\frac{n}{[s + l + n - 1]t}$\n",
    "\n",
    "For $r_{\\infty} = lim_{n \\rightarrow \\infty} r(n) = t^{-1}$ since as n goes to infinity the constants become negligible and we are essentially left with $\\frac{n}{tn}$\n",
    "\n",
    "The asymptotic improvement for a pipelined version over the classical FPU would be equivalent to $r_{\\infty}/r_{classical}(n)$, or $\\frac{t^{-1}}{[lt]^{-1}} = l$\n",
    "\n",
    "This means that when a large amount of operations needs to be performed a pipelined FPU will perform complete these operations at a rate that is close to a factor of $l$ faster than a classical FPU.\n",
    "\n",
    " If we substitute $n_{1}{2}$ for $n$, then for a pipelined FPU $t(n) = [2n_{1/2}]t$.\n",
    " \n",
    "The rate, $r(n)$ will then become the reciprocal of $t(n)/n_{1/2}$, or $ \\frac{n_{1/2}}{[2n_{1/2}]t} = \\frac{1}{2t} $ which equals $r_{\\infty}/2$. This is equivalent to the definition of $n_{1/2}$"
   ],
   "id": "95edf4a9f1e67324"
  },
  {
   "metadata": {},
   "cell_type": "markdown",
   "source": [
    "### Exercise 1.2 Analyze the speedup and $n_{1/2}$ of linked triads.\n",
    "\n",
    "For operations performed in sequence the time taken is $t(n) = n*t$, and for operations performed in pipeline the time taken is $t(n) = (l+n-1)*t$ where l is the number of stages.\n",
    "\n",
    "To look at the speedup in a linked triad, the sequential time must be divided by the pipeline time, so $S = \\frac{t_{seq}}{t_{pipe}} = \\frac{n*t}{(l+n-1)*t} \\approx \\frac{n}{l+n-1}$\n",
    "\n",
    "The $n_{1/2}$ is the number of operations needed to reach half of the maximum speedup. For sequential operations $r_{\\infty}(n) = \\frac{1}{t}$ and $r(n) = \\frac{n}{(l+n-1)*t} $. \n",
    "\n",
    "We can set $r(n_{1/2}) = r_{\\infty}(n) $ which is equivalent to\n",
    "$\\frac{n_{1/2}}{(l+n_{1/2}-1)*t} = \\frac{1}{2*t_{op}} $.\n",
    "\n",
    "From this we can simplify the expression to $2n_{1/2} = l + n_{1/2} - 1 \\rightarrow n_{1/2}=l+1$.\n",
    "\n",
    "There needs to be $l +1$ operations to reach half of the asymptotic rate. "
   ],
   "id": "211fe5e59e5325be"
  },
  {
   "metadata": {},
   "cell_type": "markdown",
   "source": [
    "### Exercise 1.3:  Analyze the speedup and $n_{1/2}$ of a processor with multiple pipelines that operate in parallel. \n",
    "\n",
    "For operations performed in sequence the time taken is $t(n) = n*t_{op}$, and for operations performed in parallel the time taken is $t(n) = \\lceil\\frac{n}{p}\\rceil*t_{op}$.\n",
    "\n",
    "To look at the speedup in a linked triad, the sequential time must be divided by the parallel time, so $S = \\frac{t_{seq}}{t_{par}} = \\frac{n*t_{op}}{\\lceil\\frac{n}{p}\\rceil*t_{op}} \\approx p$\n",
    "\n",
    "The $n_{1/2}$ is the number of operations needed to reach half of the maximum speedup. For sequential operations $r_{\\infty}(n) = \\frac{1}{t_{op}}$ and $r(n) = \\frac{n}{s+n*t_{op}} $ where $s$ is the startup cost. \n",
    "\n",
    "We can set $r(n_{1/2}) = r_{\\infty}(n) $ which is equivalent to\n",
    "$\\frac{n_{1/2}}{s+n_{1/2}*t_{op}} = \\frac{1}{2*t_{op}} $.\n",
    "\n",
    "From this we can simplify the expression to $n_{1/2}(2*t_{op}) = s + n_{1/2}*t_{op} \\rightarrow n_{1/2}*t_{op} = s \\rightarrow n_{1/2} = \\frac{s}{t_{op}}$.\n",
    "\n",
    "There needs to be $\\frac{s}{t_{op}}$ operations to reach half of the asymptotic rate. "
   ],
   "id": "a7a546e6e46850cd"
  }
 ],
 "metadata": {},
 "nbformat": 4,
 "nbformat_minor": 5
}
