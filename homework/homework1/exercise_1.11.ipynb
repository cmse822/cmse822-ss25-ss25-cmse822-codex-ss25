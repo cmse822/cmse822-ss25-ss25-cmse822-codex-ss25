{
 "cells": [
  {
   "cell_type": "markdown",
   "metadata": {},
   "source": [
    "## Exercise 1.11\n",
    "\n",
    "*The recursive doubling algorithm for summing the elements of an array is:*\n",
    "\n",
    "```\n",
    "for (s=2; s<2*n; s*=2)\n",
    "    for (i=0; i<n-s/2; i+=s)\n",
    "        x[i] += x[i+s/2]\n",
    "```\n",
    "*Analyze bank conflicts for this algorithm. Assume $n=2^p$ and banks have $2^k$ elements where $k<p$.*"
   ]
  },
  {
   "cell_type": "markdown",
   "metadata": {},
   "source": [
    "Below is an implementation of the recursive doubling algorithm in python."
   ]
  },
  {
   "cell_type": "code",
   "execution_count": 47,
   "metadata": {},
   "outputs": [
    {
     "name": "stdout",
     "output_type": "stream",
     "text": [
      "Bank conflicts (p = 20, k = 10): 10\n",
      "Bank conflicts (p = 15, k = 10): 5\n",
      "Bank conflicts (p = 15, k = 5): 10\n",
      "Bank conflicts (p = 22, k = 8): 14\n"
     ]
    }
   ],
   "source": [
    "def recursive_doubling(p, k):\n",
    "\n",
    "    # Initializing parameters\n",
    "    s = 2\n",
    "    n = 2 ** p\n",
    "    bank_conflicts = 0\n",
    "    bank_elements = 2 ** k\n",
    "\n",
    "    # Runs the algorithm with the above paramters, skipping the actual calculations of array elements\n",
    "    while s < 2 * n:\n",
    "        for i in range(0, n - s // 2, s):\n",
    "\n",
    "            # Checks if the two elements of the array are being accessed from the same bank\n",
    "            if (i % bank_elements) == (i + s/2 % bank_elements):\n",
    "                bank_conflicts += 1\n",
    "\n",
    "        s *= 2\n",
    "\n",
    "    print(f\"Bank conflicts (p = {p}, k = {k}):\", bank_conflicts)\n",
    "\n",
    "recursive_doubling(20, 10)\n",
    "recursive_doubling(15, 10)\n",
    "recursive_doubling(15, 5)\n",
    "recursive_doubling(22, 8)"
   ]
  },
  {
   "cell_type": "markdown",
   "metadata": {},
   "source": [
    "Varying the values of $p$ and $k$ shows that the number of bank conflicts with this algorithm is simply $p-k$."
   ]
  },
  {
   "cell_type": "code",
   "execution_count": 48,
   "metadata": {},
   "outputs": [
    {
     "name": "stdout",
     "output_type": "stream",
     "text": [
      "Bank conflicts (p = 20, k = 10): 2097150.0 (Min: 1024.0)\n",
      "Bank conflicts (p = 15, k = 10): 65534.0 (Min: 32.0)\n",
      "Bank conflicts (p = 15, k = 5): 65534.0 (Min: 1024.0)\n",
      "Bank conflicts (p = 22, k = 8): 8388606.0 (Min: 16384.0)\n"
     ]
    }
   ],
   "source": [
    "import numpy as np\n",
    "\n",
    "def parallel_doubling(p, k):\n",
    "\n",
    "    # Initializing parameters\n",
    "    s = 2\n",
    "    n = 2 ** p\n",
    "    bank_elements = 2 ** k\n",
    "    accessed_indices = np.zeros(bank_elements)\n",
    "\n",
    "    # Runs the algorithm with the above paramters, skipping the actual calculations of array elements\n",
    "    while s < 2 * n:\n",
    "        for i in range(0, n - s // 2, s):\n",
    "            accessed_indices[i % bank_elements] += 1\n",
    "            accessed_indices[(i + s // 2) % bank_elements] += 1\n",
    "\n",
    "        s *= 2\n",
    "\n",
    "    print(f\"Bank conflicts (p = {p}, k = {k}):\", np.sum(accessed_indices), f\"(Min: {np.min(accessed_indices)})\")\n",
    "\n",
    "parallel_doubling(20, 10)\n",
    "parallel_doubling(15, 10)\n",
    "parallel_doubling(15, 5)\n",
    "parallel_doubling(22, 8)"
   ]
  },
  {
   "cell_type": "markdown",
   "metadata": {},
   "source": [
    "When the algorithm is parallel (and thus all operations in the loop can be done simultaneously), the number of bank conflicts is significantly higher but only seems to depend on the value of $p$ and not on the value of $k$. In fact, it seems like the total number of bank conflicts is simply $2 + 2^{n+1}$.\n",
    "\n",
    "Now we can conduct both of the same tests for the recursive halving algorithm."
   ]
  },
  {
   "cell_type": "code",
   "execution_count": 53,
   "metadata": {},
   "outputs": [
    {
     "name": "stdout",
     "output_type": "stream",
     "text": [
      "Bank conflicts (p = 20, k = 10): 0\n",
      "Bank conflicts (p = 15, k = 10): 0\n",
      "Bank conflicts (p = 15, k = 5): 0\n",
      "Bank conflicts (p = 22, k = 8): 0\n",
      "Bank conflicts (p = 22, k = 2): 0\n"
     ]
    }
   ],
   "source": [
    "def recursive_halving(p, k):\n",
    "\n",
    "    # Initializing parameters\n",
    "    n = 2 ** p\n",
    "    s = (n + 1) / 2\n",
    "    bank_conflicts = 0\n",
    "    bank_elements = 2 ** k\n",
    "\n",
    "    # Runs the algorithm with the above paramters, skipping the actual calculations of array elements\n",
    "    while s > 1:\n",
    "        for i in range(n):\n",
    "\n",
    "            # Checks if the two elements of the array are being accessed from the same bank\n",
    "            if (i % bank_elements) == (i + s % bank_elements):\n",
    "                bank_conflicts += 1\n",
    "\n",
    "        s /= 2\n",
    "\n",
    "    print(f\"Bank conflicts (p = {p}, k = {k}):\", bank_conflicts)\n",
    "\n",
    "recursive_halving(20, 10)\n",
    "recursive_halving(15, 10)\n",
    "recursive_halving(15, 5)\n",
    "recursive_halving(22, 8)\n",
    "recursive_halving(22, 2)"
   ]
  },
  {
   "cell_type": "code",
   "execution_count": 58,
   "metadata": {},
   "outputs": [
    {
     "name": "stdout",
     "output_type": "stream",
     "text": [
      "Bank conflicts (p = 20, k = 10): 39845888.0 (Min: 38912.0)\n",
      "Bank conflicts (p = 15, k = 10): 917504.0 (Min: 896.0)\n",
      "Bank conflicts (p = 15, k = 5): 917504.0 (Min: 28672.0)\n",
      "Bank conflicts (p = 22, k = 8): 176160768.0 (Min: 688128.0)\n"
     ]
    }
   ],
   "source": [
    "def parallel_halving(p, k):\n",
    "\n",
    "    # Initializing parameters\n",
    "    n = 2 ** p\n",
    "    s = (n + 1) // 2\n",
    "    bank_elements = 2 ** k\n",
    "    accessed_indices = np.zeros(bank_elements)\n",
    "\n",
    "    # Runs the algorithm with the above paramters, skipping the actual calculations of array elements\n",
    "    while s > 1:\n",
    "        for i in range(n):\n",
    "            accessed_indices[i % bank_elements] += 1\n",
    "            accessed_indices[(i + s) % bank_elements] += 1\n",
    "\n",
    "        s = s // 2\n",
    "\n",
    "    print(f\"Bank conflicts (p = {p}, k = {k}):\", np.sum(accessed_indices), f\"(Min: {np.min(accessed_indices)})\")\n",
    "\n",
    "parallel_halving(20, 10)\n",
    "parallel_halving(15, 10)\n",
    "parallel_halving(15, 5)\n",
    "parallel_halving(22, 8)"
   ]
  },
  {
   "cell_type": "markdown",
   "metadata": {},
   "source": [
    "For the non-parallel case, the number of bank conflicts with recursive halving is 0, even with lower numbers of $k$. This makes it a much better algorithm than recursive doubling (in terms of bank conflicts). However, in the parallel case, the recursive halving algorithm performs worse than recursive doubling. Also of note, the recursive halving algorithm takes longer to complete despite fewer bank conflicts. So, I believe there are other aspects of performance to consider."
   ]
  }
 ],
 "metadata": {
  "kernelspec": {
   "display_name": "base",
   "language": "python",
   "name": "python3"
  },
  "language_info": {
   "codemirror_mode": {
    "name": "ipython",
    "version": 3
   },
   "file_extension": ".py",
   "mimetype": "text/x-python",
   "name": "python",
   "nbconvert_exporter": "python",
   "pygments_lexer": "ipython3",
   "version": "3.12.3"
  }
 },
 "nbformat": 4,
 "nbformat_minor": 2
}
