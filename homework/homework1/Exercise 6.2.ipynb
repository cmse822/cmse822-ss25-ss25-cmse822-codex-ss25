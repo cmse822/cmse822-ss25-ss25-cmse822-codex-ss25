{
 "cells": [
  {
   "metadata": {},
   "cell_type": "markdown",
   "source": "# Exercise 6.2",
   "id": "e6ec14fd86935533"
  },
  {
   "metadata": {},
   "cell_type": "markdown",
   "source": [
    "#### While the strategy just sketched will demonstrate the existence of cache sizes, it will not report the maximal bandwidth that the cache supports. What is the problem and how would you fix it?\n",
    "\n",
    "The code demonstrated in the exercise is shown below:\n",
    "\n"
   ],
   "id": "c35dbc4b9f8b4ed3"
  },
  {
   "metadata": {},
   "cell_type": "code",
   "outputs": [],
   "execution_count": null,
   "source": [
    "for (int iword=0; iword<cachesize_in_words; iword++)\n",
    "    memory[iword] = random() % cachesize_in_words\n"
   ],
   "id": "e34eb30d29cd4308"
  },
  {
   "metadata": {},
   "cell_type": "markdown",
   "source": [
    "In order to determine the maximum bandwidth that the cache supports, the time it takes for the above code to execute needs to be recorded and used to determine bandwidth. \n",
    "\n",
    "I would fix this by recording the time right before the loop initiates and as soon as it exits the loop. The end time would be subtracted by the start time to find the elapsed time; I would do this by using std::chrono and without doing any setup or teardown operations to ensure the accuracy of the time result. I would then divide the cachesize by this amount of time to determine the bandwidth of the cache. In this instance the bandwidth would be in words/s per the provided code. "
   ],
   "id": "4efef620537d3adb"
  }
 ],
 "metadata": {
  "kernelspec": {
   "display_name": "Python 3",
   "language": "python",
   "name": "python3"
  },
  "language_info": {
   "codemirror_mode": {
    "name": "ipython",
    "version": 2
   },
   "file_extension": ".py",
   "mimetype": "text/x-python",
   "name": "python",
   "nbconvert_exporter": "python",
   "pygments_lexer": "ipython2",
   "version": "2.7.6"
  }
 },
 "nbformat": 4,
 "nbformat_minor": 5
}
