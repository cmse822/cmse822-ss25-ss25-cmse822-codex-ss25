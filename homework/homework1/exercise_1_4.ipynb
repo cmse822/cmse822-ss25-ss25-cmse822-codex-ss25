{
 "cells": [
  {
   "cell_type": "markdown",
   "metadata": {},
   "source": [
    "# Exercise 1.4\n",
    "\n",
    "We can compute `x[i + 2]` from `x[i]` to eliminate the pipeline dependency in the following way. \n",
    "\n",
    "We know that `x[i + 1] = a[i]*x[i] + b[i]`, which would mean that `x[i + 2] = a[i + 1]*x[i + 1] + b[i + 1]`. \n",
    "\n",
    "Using substitution, we find that `x[i + 2] = a[i + 1]*(a[i]*x[i] + b[i]) + b[i + 1]`.\n",
    "\n",
    "Since there is ample temporary storage provided, the original operation can be transformed to the following:\n",
    "\n",
    "```\n",
    "for (i) {\n",
    "    temp = a[i]*x[i] + b[i]\n",
    "    x[i + 2] = a[i + 1]*temp + b[i + 1]\n",
    "}\n",
    "```\n",
    "\n",
    "The efficiency of this operation can be analyzed with the formulas for $T_{0}(n)$ and $T_{s}(n)$.\n",
    "\n",
    "$T_{0}(n) = n * l * t$\n",
    "\n",
    "$T_{s}(n) = \\frac{n}{p} * (l + s) * t$, where p is the number of parallel processes and s is the number of preliminary calculations\n",
    "\n",
    "These formulas can be input into the formula for speedup, $S = \\frac{T_{0}(n)}{T_{s}(n)}$, giving us:\n",
    "\n",
    "$S = \\frac{n * l * t}{\\frac{n}{p} * (l + s) * t} = \\frac{p * l}{l + s}$\n",
    "\n",
    "Speedup can be used to calculate the efficiency with the following equation: $E =\\frac{S}{p}$.\n",
    "\n",
    "$E = \\frac{p * l}{l + s} * \\frac{1}{p} = \\frac{l}{l + s}$\n",
    "\n",
    "The preliminary calculations may be of lesser importance when the total number of calculations $s$ is significantly smaller than the total number of executions $l$ required in the loop for the sequential execution. This is because in recursive doubling, the initial x and missing x computations can be performed in parallel after the preliminary calculations are finished.\n",
    "\n"
   ]
  }
 ],
 "metadata": {
  "language_info": {
   "name": "python"
  }
 },
 "nbformat": 4,
 "nbformat_minor": 2
}
