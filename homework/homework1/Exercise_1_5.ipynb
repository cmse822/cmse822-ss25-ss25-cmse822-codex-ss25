{
 "cells": [
  {
   "cell_type": "markdown",
   "metadata": {},
   "source": [
    "# Exercise 1.5\n",
    "\n",
    "The L1 cache is smaller than the L2 cache, and if there is an L3, the L2 is smaller than the L3.\n",
    "\n",
    "Give a practical and a theoretical reason why this is so\n"
   ]
  },
  {
   "cell_type": "markdown",
   "metadata": {},
   "source": [
    "### practical reason:\n",
    "\n",
    "The smaller the cache the faster it is to access the information within it. If the smallest of the cashes is meant to be the fastest then the most recently used information can be stored there and more quickly recalled because it is faster to transvers and recall information from a smaller cache."
   ]
  },
  {
   "cell_type": "markdown",
   "metadata": {},
   "source": [
    "### Theoretical reason:\n",
    "\n",
    "in theory the most commonly used information that needs to be recalled frequently would be best kept where one could find it as quick as possible.  This would mean that if something was Info that needed to be recalled frequently it would be placed in the smaller cache to avoid the latency caused from waiting for it to be recalled. This allows the program to reuse data in a way that fits its cache. "
   ]
  }
 ],
 "metadata": {
  "language_info": {
   "name": "python"
  }
 },
 "nbformat": 4,
 "nbformat_minor": 2
}
