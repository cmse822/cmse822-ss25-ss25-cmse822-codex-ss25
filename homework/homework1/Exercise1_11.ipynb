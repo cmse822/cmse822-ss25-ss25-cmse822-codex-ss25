{
 "cells": [
  {
   "cell_type": "code",
   "execution_count": null,
   "metadata": {},
   "outputs": [
    {
     "name": "stdout",
     "output_type": "stream",
     "text": [
      "Final sum (Recursive Doubling): 36\n"
     ]
    }
   ],
   "source": [
    "#coulndt get C into jypter"
   ]
  },
  {
   "cell_type": "markdown",
   "metadata": {},
   "source": [
    "the recursive doubling method has much higher bank conflicts because each element updates exponentially. this means that the access to memory is mostly spread out and until later iterations where bank conflicts are more likely \n",
    "\n",
    "Recursive halving algo decreases exponentially and unlike doubling every iteration becomes more localized and decrease the chances of a bank conflict and are less severe if they occur. \n",
    "\n",
    "This means that recursive halving is better than in parallel because there are so far fewer bank conflicts\n"
   ]
  }
 ],
 "metadata": {
  "kernelspec": {
   "display_name": "Python 3 (ipykernel)",
   "language": "python",
   "name": "python3"
  },
  "language_info": {
   "codemirror_mode": {
    "name": "ipython",
    "version": 3
   },
   "file_extension": ".py",
   "mimetype": "text/x-python",
   "name": "python",
   "nbconvert_exporter": "python",
   "pygments_lexer": "ipython3",
   "version": "3.12.1"
  }
 },
 "nbformat": 4,
 "nbformat_minor": 2
}
