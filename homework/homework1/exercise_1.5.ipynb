{
 "cells": [
  {
   "cell_type": "markdown",
   "metadata": {},
   "source": [
    "# Homework 1, Exercise 1.5\n",
    "## Question\n",
    "The L1 cache is smaller than the L2 cache, and if there is an L3, the L2 is smaller\n",
    "than the L3. Give a practical and a theoretical reason why this is so."
   ]
  },
  {
   "cell_type": "markdown",
   "metadata": {},
   "source": [
    "## Answer\n",
    "\n",
    "One practical reason that the L# caches decrease in size as they increase in bandwidth is that, as one gets closer and closer to the CPU core, there is just less and less space to fit memory into and still attain the high bandwidth and low latency that L1 caches require. As you move further (distance wise) from the CPU, the obtainable bandwidth and latency are lower, but there is more space to fit memory.\n",
    "\n",
    "One theoretical reason that L# caches decrease in size is that we want to avoid a situation where data that can fit in the L1 cache can't fit in the L2 cache, which could occur if L1 was larger than L2. The only reason we would want to use the slower L2 cache over the L1 cache is if the data we need won't fit within the L1 cache. As such, having L2 be smaller than L1 would run counter to this goal."
   ]
  },
  {
   "cell_type": "markdown",
   "metadata": {},
   "source": []
  }
 ],
 "metadata": {
  "language_info": {
   "name": "python"
  }
 },
 "nbformat": 4,
 "nbformat_minor": 2
}
