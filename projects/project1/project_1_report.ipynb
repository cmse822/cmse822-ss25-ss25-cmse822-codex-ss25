{
 "cells": [
  {
   "cell_type": "markdown",
   "metadata": {},
   "source": [
    "# Project 1 Report"
   ]
  },
  {
   "cell_type": "markdown",
   "metadata": {},
   "source": [
    "## Arithmetic Intensity Warmup\n",
    "\n",
    "Arithmetic intensity is the number of operations of a kernel $f(n)$ divided by the number of data items $n$. This follows the formula $\\frac{f(n)}{n}$. For this exercise, we measure operations as FLOPs and we assume 8 bytes per floating point number. Additionally, we assume that scalars are loaded into the cache once and then are stored in registers for the remainder of the kernel operations.\n",
    "\n",
    "\n",
    "| Kernel | Operations | Memory Accesses | Arithmetic Intensity |\n",
    "| ----------- | ----------- | ----------- | ----------- |\n",
    "| Y[j] += Y[j] + A[j][i] * B[i] | 2 FLOPs | 32 bytes | 0.0625 FLOPs/byte |\n",
    "| s += A[i] * A[i] | 2 FLOPs | 8 bytes | 0.25 FLOPs/byte |\n",
    "| s += A[i] * B[i] | 2 FLOPs | 16 bytes | 0.125 FLOPs/byte |\n",
    "| Y[i] = A[i] + C*B[i] | 2 FLOPs | 24 bytes | 0.083 FLOPs/byte |"
   ]
  },
  {
   "cell_type": "markdown",
   "metadata": {},
   "source": [
    "## Part 1: The Roofline Model"
   ]
  },
  {
   "cell_type": "markdown",
   "metadata": {},
   "source": [
    "| Model | Intel 16 | Intel 18 | AMD 20 |\n",
    "| ----------- | ----------- | ----------- | ----------- |\n",
    "| Peak Performance | 30.1 GFLOPs/sec | 43.0 GFLOPs/sec | 40.9 GFLOPs/sec |\n",
    "| L1 Bandwidth | 171.1 GB/s | 226.2 GB/s | 209.4 GB/s |\n",
    "| L2 Bandwidth | 112.5 GB/s | 166.7 GB/s | 43.6 GB/s |\n",
    "| L3 Bandwidth | 72.0 GB/s | 77.8 GB/s | N/A |\n",
    "| DRAM Bandwidth | 26.5 GB/s | 37.7 GB/s | 37.5 GB/s |\n",
    "| Ridge Point | ~1.5 FLOPs/byte | ~1.5 FLOPs/byte | ~1.0 FLOPs/byte |"
   ]
  },
  {
   "cell_type": "markdown",
   "metadata": {},
   "source": [
    "## Part 2: Enter the Agoge"
   ]
  }
 ],
 "metadata": {
  "language_info": {
   "name": "python"
  }
 },
 "nbformat": 4,
 "nbformat_minor": 2
}
