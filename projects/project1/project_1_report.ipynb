{
 "cells": [
  {
   "cell_type": "markdown",
   "metadata": {},
   "source": [
    "# Project 1 Report"
   ]
  },
  {
   "cell_type": "markdown",
   "metadata": {},
   "source": [
    "## Arithmetic Intensity Warmup\n",
    "\n",
    "Arithmetic intensity is the number of operations of a kernel $f(n)$ divided by the number of data items $n$. This follows the formula $\\frac{f(n)}{n}$. For this exercise, we measure operations as FLOPs and we assume 8 bytes per floating point number. Additionally, we assume that scalars are loaded into the cache once and then are stored in registers for the remainder of the kernel operations.\n",
    "\n",
    "\n",
    "| Kernel | Operations | Memory Accesses | Arithmetic Intensity |\n",
    "| ----------- | ----------- | ----------- | ----------- |\n",
    "| Y[j] += Y[j] + A[j][i] * B[i] | 2 FLOPs | 32 bytes | 0.0625 FLOPs/byte |\n",
    "| s += A[i] * A[i] | 2 FLOPs | 8 bytes | 0.25 FLOPs/byte |\n",
    "| s += A[i] * B[i] | 2 FLOPs | 16 bytes | 0.125 FLOPs/byte |\n",
    "| Y[i] = A[i] + C*B[i] | 2 FLOPs | 24 bytes | 0.083 FLOPs/byte |"
   ]
  },
  {
   "cell_type": "markdown",
   "metadata": {},
   "source": [
    "## Part 1: The Roofline Model"
   ]
  },
  {
   "cell_type": "markdown",
   "metadata": {},
   "source": [
    "## Part 2: Enter the Agoge"
   ]
  }
 ],
 "metadata": {
  "language_info": {
   "name": "python"
  }
 },
 "nbformat": 4,
 "nbformat_minor": 2
}
