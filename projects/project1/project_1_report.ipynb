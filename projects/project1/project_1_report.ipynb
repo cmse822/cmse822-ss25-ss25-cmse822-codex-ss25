{
 "cells": [
  {
   "cell_type": "markdown",
   "metadata": {},
   "source": [
    "# Project 1 Report"
   ]
  },
  {
   "cell_type": "markdown",
   "metadata": {},
   "source": [
    "## Arithmetic Intensity Warmup\n",
    "\n",
    "Arithmetic intensity is the number of operations of a kernel $f(n)$ divided by the number of data items $n$. This follows the formula $\\frac{f(n)}{n}$. For this exercise, we measure operations as FLOPs and we assume 8 bytes per floating point number. Additionally, we assume that scalars are loaded into the cache once and then are stored in registers for the remainder of the kernel operations.\n",
    "\n",
    "\n",
    "| Kernel | Operations | Memory Accesses | Arithmetic Intensity |\n",
    "| ----------- | ----------- | ----------- | ----------- |\n",
    "| Y[j] += Y[j] + A[j][i] * B[i] | 2 FLOPs | 32 bytes | 0.0625 FLOPs/byte |\n",
    "| s += A[i] * A[i] | 2 FLOPs | 8 bytes | 0.25 FLOPs/byte |\n",
    "| s += A[i] * B[i] | 2 FLOPs | 16 bytes | 0.125 FLOPs/byte |\n",
    "| Y[i] = A[i] + C*B[i] | 2 FLOPs | 24 bytes | 0.083 FLOPs/byte |"
   ]
  },
  {
   "cell_type": "markdown",
   "metadata": {},
   "source": [
    "## Part 1: The Roofline Model"
   ]
  },
  {
   "cell_type": "markdown",
   "metadata": {},
   "source": [
    "### 3. Roofline Models\n",
    "\n",
    "For this question, the ERT was run in serial mode on three different architectures: Intel 16, Intel 18, and AMD 20. The resulting peak performances, memory bandwidths, and ridge points are displayed below.\n",
    "\n",
    "| Model | Intel 16 | Intel 18 | AMD 20 |\n",
    "| ----------- | ----------- | ----------- | ----------- |\n",
    "| Peak Performance | 30.1 GFLOPs/sec | 43.0 GFLOPs/sec | 40.9 GFLOPs/sec |\n",
    "| L1 Bandwidth | 171.1 GB/s | 226.2 GB/s | 209.4 GB/s |\n",
    "| L2 Bandwidth | 112.5 GB/s | 166.7 GB/s | 43.6 GB/s |\n",
    "| L3 Bandwidth | 72.0 GB/s | 77.8 GB/s | N/A |\n",
    "| DRAM Bandwidth | 26.5 GB/s | 37.7 GB/s | 37.5 GB/s |\n",
    "| Ridge Point | ~1.1 FLOPs/byte | ~1.1 FLOPs/byte | ~1.0 FLOPs/byte |"
   ]
  },
  {
   "cell_type": "markdown",
   "metadata": {},
   "source": [
    "### 4. FP Kernels\n",
    "\n",
    "This question considers the four FP kernels in \"Roofline: An Insightful Visual Performance Model for Floating-Point Programs and Multicore Architectures\". The tables below shows the expected performance of these kernels on the Intel 16, Intel 18, and AMD 20 architectures. The high end arithmetic intensity of each kernel is used to find the GFLOPs/sec at each memory level.\n",
    "\n",
    "#### Results: amd20\n",
    "| Kernel | Arithmetic Intensity | L1 | L2 | DRAM |\n",
    "| -------- | -------- | -------- | -------- | --------- |\n",
    "| SpMV | 0.25 FLOPs/byte | 40.9 GFLOPs/sec | 11.0 GFLOPs/sec | 9.0 GFLOPs/sec |\n",
    "| LBMHD | 1.07 FLOPs/byte | 40.9 GFLOPs/sec | 40.9 GFLOPs/sec | 40.9 GFLOPs/sec |\n",
    "| Stencil | 0.5 FLOPs/byte | 40.9 GFLOPs/sec | 22.0 GFLOPs/sec | 19.0 GFLOPs/sec |\n",
    "| 3-D FFT | 1.64 FLOPs/byte | 40.9 GFLOPs/sec | 40.9 GFLOPs/sec | 40.9 GFLOPs/sec |\n",
    "\n",
    "#### Results: intel16\n",
    "| Kernel | Arithmetic Intensity | L1 | L2 | L3 | DRAM |\n",
    "| -------- | -------- | -------- | -------- | --------- | ------- | \n",
    "| SpMV | 0.25 FLOPs/byte | 30.1 GFLOPs/sec | 30.1 GFLOPs/sec | 18.0 GFLOPs/sec | 6.5 GFLOPs/sec |\n",
    "| LBMHD | 1.07 FLOPs/byte | 30.1 GFLOPs/sec | 30.1 GFLOPs/sec | 30.1 GFLOPs/sec | 30.1 GFLOPs/sec |\n",
    "| Stencil | 0.5 FLOPs/byte | 30.1 GFLOPs/sec | 30.1 GFLOPs/sec | 30.1 GFLOPs/sec | 14.0 GFLOPs/sec |\n",
    "| 3-D FFT | 1.64 FLOPs/byte | 30.1 GFLOPs/sec | 30.1 GFLOPs/sec | 30.1 GFLOPs/sec | 30.1 GFLOPs/sec |\n",
    "\n",
    "#### Results: intel18\n",
    "| Kernel | Arithmetic Intensity | L1 | L2 | L3 | DRAM |\n",
    "| -------- | -------- | -------- | -------- | --------- | ------- |\n",
    "| SpMV | 0.25 FLOPs/byte | 43.0 GFLOPs/sec | 43.0 GFLOPs/sec | 18.0 GFLOPs/sec | 9.0 GFLOPs/sec |\n",
    "| LBMHD | 1.07 FLOPs/byte | 43.0 GFLOPs/sec | 43.0 GFLOPs/sec | 43.0 GFLOPs/sec | 43.0 GFLOPs/sec |\n",
    "| Stencil | 0.5 FLOPs/byte | 43.0 GFLOPs/sec | 43.0 GFLOPs/sec | 40.0 GFLOPs/sec | 19.0 GFLOPs/sec |\n",
    "| 3-D FFT | 1.64 FLOPs/byte | 43.0 GFLOPs/sec | 43.0 GFLOPs/sec | 43.0 GFLOPs/sec | 43.0 GFLOPs/sec |\n",
    "\n",
    "From the results obtained above, we can see that the kernels follow specific trends regardless of the system architecture. The LBMHD and 3-D FFT have arithmetic intensities greater than 1, meaning that they have more operations compared to data movements. This results in them reaching the peak performance of each compute node regardless of the data size, meaning that these two kernels are CPU-bound.\n",
    "\n",
    "The SpMV and Stencil kernels show different results. This is because of their arithmetic intensity being lower than 1, which means that they have more data movements than operations. For the L1 cache in all 3 architectures, these kernels are CPU-bound. The same holds true for the L2 caches of the 2 Intel nodes. Once these kernels reach the L3 cache and DRAM of the Intel nodes, they become memory-bound because they cannot achieve peak performance (except for Stencil in the Intel 16 L3 cache, which remains CPU-bound). The AMD node differs from the Intel nodes as there are only 2 cache levels. Both kernels become memory-bound in the L2 and DRAM of the AMD 20 node.\n",
    "\n",
    "#### Optimization Strategies:\n",
    "\n",
    "- LBMHD and 3-D FFT: Since these kernels are CPU-bound, the optimization strategies involve improving the parallelism of the code. This can take the form of vectorization, parallelization, or other parallel techniques. \n",
    "\n",
    "- SpMV and Stencil: The optimization strategies for these kernels will focus on smaller sized operations, as these are memory-bound. These strategies attempt to limit the number of data movement operations for the kernels. The first strategy is to improve cache reuse with techniques such as loop tiling or blocking techniques. The second strategy involves optimizing the data structures of the kernels to reduce their memory footprint."
   ]
  },
  {
   "cell_type": "markdown",
   "metadata": {},
   "source": [
    "### 5. Warm Up Kernels\n",
    "\n",
    "This question addresses the same questions as 4, but instead uses the kernels from the warm up exercise. We again show the expected performance of these kernels on the Intel 16, Intel 18, and AMD 20 architectures. The GFLOPs/sec at each memory level is again recorded for each calculated arithmetic intensity.\n",
    "\n",
    "#### Results: amd20\n",
    "| Kernel | Arithmetic Intensity | L1 | L2 | DRAM |\n",
    "| -------- | -------- | -------- | -------- | --------- | \n",
    "| Y[j] += Y[j] + A[j][i] * B[i] | 0.0625 FLOPs/byte | - | - | - |\n",
    "| s += A[i] * A[i] | 0.25 FLOPs/byte | - | - | - |\n",
    "| s += A[i] * B[i] | 0.125 FLOPs/byte | - | - | - |\n",
    "| Y[i] = A[i] + C*B[i] | 0.083 FLOPs/byte | - | - | - |\n",
    "\n",
    "#### Results: intel16\n",
    "| Kernel | Arithmetic Intensity | L1 | L2 | L3 | DRAM |\n",
    "| -------- | -------- | -------- | -------- | --------- | ------- | \n",
    "| Y[j] += Y[j] + A[j][i] * B[i] | 0.0625 FLOPs/byte | - | - | - | - |\n",
    "| s += A[i] * A[i] | 0.25 FLOPs/byte | - | - | - | -|\n",
    "| s += A[i] * B[i] | 0.125 FLOPs/byte | - | - | - | -|\n",
    "| Y[i] = A[i] + C*B[i] | 0.083 FLOPs/byte | - | - | - | - |\n",
    "\n",
    "#### Results: intel18\n",
    "| Kernel | Arithmetic Intensity | L1 | L2 | L3 | DRAM |\n",
    "| -------- | -------- | -------- | -------- | --------- | ------- | \n",
    "| Y[j] += Y[j] + A[j][i] * B[i] | 0.0625 FLOPs/byte | - | - | - | -|\n",
    "| s += A[i] * A[i] | 0.25 FLOPs/byte | - | - | - | - |\n",
    "| s += A[i] * B[i] | 0.125 FLOPs/byte | - | - | - | -|\n",
    "| Y[i] = A[i] + C*B[i] | 0.083 FLOPs/byte | - | - | - | - |"
   ]
  },
  {
   "cell_type": "markdown",
   "metadata": {},
   "source": [
    "## Part 2: Enter the Agoge\n",
    "\n",
    "\n"
   ]
  },
  {
   "cell_type": "markdown",
   "metadata": {},
   "source": [
    "### Arithmetic Intensity\n",
    "| Solver | EulerSolver | GravitySolver |\n",
    "| ----------- | ----------- | ----------- |\n",
    "| 32^3 | 0 FLOPs/Byte | 0 FLOPs/Byte |\n",
    "| 64^3 | 0.17 FLOPs/Byte | 1.03 FLOPs/Byte |\n",
    "| 128^3 | 0.20 FLOPs/Byte | 0.77 FLOPs/Byte |\n",
    "| 256^3 | 0.20 FLOPs/Byte | 0.46 FLOPs/Byte |\n",
    "| 512^3 | 0.14 FLOPs/Byte | 0.37 FLOPs/Byte |"
   ]
  },
  {
   "cell_type": "markdown",
   "metadata": {},
   "source": [
    "Arithmetic intensity is defined as: $$ \\text{AI} = \\frac{\\text{FLOPs/s}}{\\text{Memory Traffic (Bytes/s)}} $$\n",
    "\n",
    "For each solver: • Example for EulerSolver: • DP GFLOPS ≈ 4.215 × 10⁹ FLOPs/s. • DRAM Bandwidth ≈ 2.706 × 10⁹ Bytes/s. Then: $$ \\text{AI}_{\\text{Euler}} \\approx \\frac{4.215 \\times 10^9}{2.706 \\times 10^9} \\approx 1.56 \\text{ FLOPs/Byte} $$ • Repeat for GravitySolver: Use its respective metrics to compute AI."
   ]
  }
 ],
 "metadata": {
  "language_info": {
   "name": "python"
  }
 },
 "nbformat": 4,
 "nbformat_minor": 2
}
