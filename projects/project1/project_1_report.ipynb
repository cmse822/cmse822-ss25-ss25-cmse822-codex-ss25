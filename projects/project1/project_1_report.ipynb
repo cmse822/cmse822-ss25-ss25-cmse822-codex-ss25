{
 "cells": [
  {
   "cell_type": "markdown",
   "metadata": {},
   "source": [
    "# Project 1 Report"
   ]
  },
  {
   "cell_type": "markdown",
   "metadata": {},
   "source": [
    "## Arithmetic Intensity Warmup\n",
    "\n",
    "Arithmetic intensity is the number of operations of a kernel $f(n)$ divided by the number of data items $n$. This follows the formula $\\frac{f(n)}{n}$. For this exercise, we measure operations as FLOPs and we assume 8 bytes per floating point number. Additionally, we assume that scalars are loaded into the cache once and then are stored in registers for the remainder of the kernel operations.\n",
    "\n",
    "\n",
    "| Kernel | Operations | Memory Accesses | Arithmetic Intensity |\n",
    "| ----------- | ----------- | ----------- | ----------- |\n",
    "| Y[j] += Y[j] + A[j][i] * B[i] | 2 FLOPs | 32 bytes | 0.0625 FLOPs/byte |\n",
    "| s += A[i] * A[i] | 2 FLOPs | 8 bytes | 0.25 FLOPs/byte |\n",
    "| s += A[i] * B[i] | 2 FLOPs | 16 bytes | 0.125 FLOPs/byte |\n",
    "| Y[i] = A[i] + C*B[i] | 2 FLOPs | 24 bytes | 0.083 FLOPs/byte |"
   ]
  },
  {
   "cell_type": "markdown",
   "metadata": {},
   "source": [
    "## Part 1: The Roofline Model"
   ]
  },
  {
   "cell_type": "markdown",
   "metadata": {},
   "source": [
    "### Intel 16\n",
    "\n",
    "**Peak Performance:**\n",
    "\n",
    "30.1 GFLOPs/sec\n",
    "\n",
    "**Bandwidths:**\n",
    "\n",
    "1. L1: 171.1 GB/s\n",
    "\n",
    "2. L2: 112.5 GB/s\n",
    "\n",
    "3. L3: 72.0 GB/s\n",
    "\n",
    "4. DRAM: 26.5 GB/s\n",
    "\n",
    "**Ridge Points:**\n",
    "\n",
    "1. L1: ~0.2 FLOPs/byte\n",
    "\n",
    "2. L2: ~0.4 FLOPs/byte\n",
    "\n",
    "3. L3: ~0.6 FLOPs/byte\n",
    "\n",
    "4. DRAM: ~1.5 FLOPs/byte"
   ]
  },
  {
   "cell_type": "markdown",
   "metadata": {},
   "source": [
    "### Intel 18\n",
    "\n",
    "**Peak Performance:**\n",
    "\n",
    "43.0 GFLOPs/sec\n",
    "\n",
    "**Bandwidths:**\n",
    "\n",
    "1. L1: 226.2 GB/s\n",
    "\n",
    "2. L2: 166.7 GB/s\n",
    "\n",
    "3. L3: 77.8 GB/s\n",
    "\n",
    "4. DRAM: 37.7 GB/s\n",
    "\n",
    "**Ridge Points:**\n",
    "\n",
    "1. L1: ~0.25 FLOPs/byte\n",
    "\n",
    "2. L2: ~0.4 FLOPs/byte\n",
    "\n",
    "3. L3: ~0.75 FLOPs/byte\n",
    "\n",
    "4. DRAM: ~1.5 FLOPs/byte"
   ]
  },
  {
   "cell_type": "markdown",
   "metadata": {},
   "source": [
    "### AMD 20\n",
    "\n",
    "**Peak Performance:**\n",
    "\n",
    "40.9 GFLOPs/sec\n",
    "\n",
    "**Bandwidths:**\n",
    "\n",
    "1. L1: 209.4 GB/s\n",
    "\n",
    "2. L2: 43.6 GB/s\n",
    "\n",
    "3. DRAM: 37.5 GB/s\n",
    "\n",
    "**Ridge Points:**\n",
    "\n",
    "1. L1: ~0.3 FLOPs/byte\n",
    "\n",
    "2. L2: ~0.9 FLOPs/byte\n",
    "\n",
    "3. DRAM: ~1.0 FLOPs/byte"
   ]
  },
  {
   "cell_type": "markdown",
   "metadata": {},
   "source": [
    "## Part 2: Enter the Agoge"
   ]
  }
 ],
 "metadata": {
  "language_info": {
   "name": "python"
  }
 },
 "nbformat": 4,
 "nbformat_minor": 2
}
